{
 "cells": [
  {
   "cell_type": "markdown",
   "id": "c8ad6984-e496-4336-b70d-0b28d49cb75d",
   "metadata": {},
   "source": [
    "---------------------------------------Bài tập hàm------------------------------------"
   ]
  },
  {
   "cell_type": "markdown",
   "id": "220b8090-2ec6-4350-9441-def4ccde9fac",
   "metadata": {},
   "source": [
    "Bài 1:"
   ]
  },
  {
   "cell_type": "code",
   "execution_count": 99,
   "id": "27aaafa2-3865-4676-99a2-075b18242f6f",
   "metadata": {},
   "outputs": [
    {
     "name": "stdin",
     "output_type": "stream",
     "text": [
      "Nhập vào một số:  8\n"
     ]
    },
    {
     "name": "stdout",
     "output_type": "stream",
     "text": [
      "Giai thừa của 8 là: 40320\n"
     ]
    }
   ],
   "source": [
    "def giaithua(number):\n",
    "    kq=number\n",
    "    for i in range(number-1,0,-1):\n",
    "        kq*=i\n",
    "    return kq\n",
    "    \n",
    "number=int(input(\"Nhập vào một số: \"))\n",
    "print(f\"Giai thừa của {number} là: {giaithua(number)}\")"
   ]
  },
  {
   "cell_type": "code",
   "execution_count": 94,
   "id": "24addf57-f2ac-4264-917c-a52db7b58076",
   "metadata": {},
   "outputs": [
    {
     "name": "stdin",
     "output_type": "stream",
     "text": [
      "Nhập vào một số:  8\n"
     ]
    },
    {
     "name": "stdout",
     "output_type": "stream",
     "text": [
      "40320\n"
     ]
    }
   ],
   "source": [
    "#Sử dụng đệ quy\n",
    "kq=number\n",
    "def tinhgiaithua(number):\n",
    "    if number==0:\n",
    "        return 1\n",
    "    else: \n",
    "        return number*tinhgiaithua(number-1)\n",
    "number=int(input(\"Nhập vào một số: \"))\n",
    "print(tinhgiaithua(number))"
   ]
  },
  {
   "cell_type": "markdown",
   "id": "e6d84e9e-c1ff-41f9-b40f-3bf1ead903dc",
   "metadata": {},
   "source": [
    "Bài 2:"
   ]
  },
  {
   "cell_type": "code",
   "execution_count": 102,
   "id": "fee09187-cadb-49ce-8463-12f54b57aeb0",
   "metadata": {},
   "outputs": [
    {
     "name": "stdin",
     "output_type": "stream",
     "text": [
      "Nhập vào 1 chuỗi:  abc\n",
      "Nhập vào 1 chuỗi:  def\n"
     ]
    },
    {
     "name": "stdout",
     "output_type": "stream",
     "text": [
      "abc\n",
      "def\n",
      "abc có độ dài bằng def\n"
     ]
    }
   ],
   "source": [
    "def check(string1,string2):\n",
    "    if len(string1)>len(string2):\n",
    "        return string1+\" có độ dài lớn hơn \"+string2\n",
    "    elif len(string1)==len(string2):\n",
    "        print(string1)\n",
    "        print(string2)\n",
    "        return string1+\" có độ dài bằng \"+string2\n",
    "    else:\n",
    "        return string2+\"Có độ dài lớn hơn \"+string1\n",
    "string1=input(\"Nhập vào 1 chuỗi: \")\n",
    "string2=input(\"Nhập vào 1 chuỗi: \")\n",
    "print(check(string1,string2))"
   ]
  },
  {
   "cell_type": "markdown",
   "id": "d375f0e7-14c3-4ced-9a76-f0fb05c5ca3e",
   "metadata": {},
   "source": [
    "Bài 3:"
   ]
  },
  {
   "cell_type": "code",
   "execution_count": 30,
   "id": "d989617f-d3f0-4cf5-b958-4dd8a4d0d35b",
   "metadata": {},
   "outputs": [
    {
     "name": "stdout",
     "output_type": "stream",
     "text": [
      "1\n",
      "4\n",
      "9\n",
      "16\n",
      "25\n",
      "36\n",
      "49\n",
      "64\n",
      "81\n",
      "100\n",
      "121\n",
      "144\n",
      "169\n",
      "196\n",
      "225\n",
      "256\n",
      "289\n",
      "324\n",
      "361\n",
      "400\n"
     ]
    }
   ],
   "source": [
    "squareList=[]\n",
    "def square():\n",
    "    for i in range(1,21):\n",
    "        kq=i**2\n",
    "        squareList.append(kq)\n",
    "def square():\n",
    "    [print(i**2) for i in range(1,21)]\n",
    "square()"
   ]
  },
  {
   "cell_type": "code",
   "execution_count": 109,
   "id": "3fe1dde4-1b2d-495b-9d42-f6e39cbd234f",
   "metadata": {},
   "outputs": [
    {
     "name": "stdout",
     "output_type": "stream",
     "text": [
      "[1, 4, 9, 16, 25, 36, 49, 64, 81, 100, 121, 144, 169, 196, 225, 256, 289, 324, 361]\n"
     ]
    }
   ],
   "source": [
    "square_list=[]\n",
    "def binhPhuong(start,end):\n",
    "    if start>=end:\n",
    "        return False\n",
    "    else: \n",
    "        square_list.append(start**2)\n",
    "        binhPhuong(start+1,end)\n",
    "binhPhuong(1,20)\n",
    "print(square_list)"
   ]
  },
  {
   "cell_type": "markdown",
   "id": "68c23ed4-6ba7-433b-abfe-a90c296d2a11",
   "metadata": {},
   "source": [
    "Bài 4:"
   ]
  },
  {
   "cell_type": "code",
   "execution_count": 38,
   "id": "0a7b99bc-0b5f-4539-be1b-ae028cc0b38f",
   "metadata": {},
   "outputs": [
    {
     "name": "stdout",
     "output_type": "stream",
     "text": [
      "[1, 4, 9, 16, 25]\n"
     ]
    }
   ],
   "source": [
    "squareList=[]\n",
    "def square():\n",
    "    for i in range(1,21):\n",
    "        kq=i**2\n",
    "        squareList.append(kq)\n",
    "square()\n",
    "print(squareList[0:5])"
   ]
  },
  {
   "cell_type": "markdown",
   "id": "0973f5e6-3bb1-4984-8344-b9800849d565",
   "metadata": {},
   "source": [
    "Bài 5:"
   ]
  },
  {
   "cell_type": "code",
   "execution_count": 42,
   "id": "59d29f7c-b5a8-49c6-b256-88ea899db9f4",
   "metadata": {},
   "outputs": [
    {
     "name": "stdout",
     "output_type": "stream",
     "text": [
      "[400, 361, 324, 289, 256]\n"
     ]
    }
   ],
   "source": [
    "squareList=[]\n",
    "def square():\n",
    "    for i in range(1,21):\n",
    "        kq=i**2\n",
    "        squareList.append(kq)\n",
    "square()\n",
    "print(squareList[20:14:-1])"
   ]
  },
  {
   "cell_type": "markdown",
   "id": "23e8ef21-02df-4c8b-aae9-0baf99b279fd",
   "metadata": {},
   "source": [
    "Bài 6:"
   ]
  },
  {
   "cell_type": "code",
   "execution_count": 26,
   "id": "b7264798-75cb-484c-b87f-c9b13afad4f8",
   "metadata": {},
   "outputs": [
    {
     "name": "stdout",
     "output_type": "stream",
     "text": [
      "[36, 49, 64, 81, 100, 121, 144, 169, 196, 225, 256, 289, 324, 361, 400]\n"
     ]
    }
   ],
   "source": [
    "squareList=[]\n",
    "def square():\n",
    "    for i in range(1,21):\n",
    "        kq=i**2\n",
    "        squareList.append(kq)\n",
    "square()\n",
    "print(squareList[5:21])"
   ]
  },
  {
   "cell_type": "code",
   "execution_count": 89,
   "id": "67b944be-81d9-45e7-be0b-373cea48bab0",
   "metadata": {},
   "outputs": [
    {
     "name": "stdout",
     "output_type": "stream",
     "text": [
      "[36, 49, 64, 81, 100, 121, 144, 169, 196, 225, 256, 289, 324, 361, 400]\n"
     ]
    }
   ],
   "source": [
    "#Sử dụng đệ quy:\n",
    "kq_list=[]\n",
    "def square(start,end):\n",
    "    if start>=end:\n",
    "        return\n",
    "    kq=start**2\n",
    "    kq_list.append(kq)\n",
    "    square(start+1,end)\n",
    "        \n",
    "square(1,21)\n",
    "print(kq_list[5:21])"
   ]
  },
  {
   "cell_type": "markdown",
   "id": "093485c4-1085-46d1-aaee-b3487f78c5ac",
   "metadata": {},
   "source": [
    "Bài 7:"
   ]
  },
  {
   "cell_type": "code",
   "execution_count": 95,
   "id": "5911472e-d199-4934-b63d-7ae62941c551",
   "metadata": {},
   "outputs": [
    {
     "name": "stdin",
     "output_type": "stream",
     "text": [
      "Nhập vào một số:  4\n"
     ]
    },
    {
     "name": "stdout",
     "output_type": "stream",
     "text": [
      "16\n"
     ]
    }
   ],
   "source": [
    "def binhPhuong(number):\n",
    "    return number**2\n",
    "number=int(input(\"Nhập vào một số: \"))\n",
    "print(binhPhuong(number))"
   ]
  },
  {
   "cell_type": "markdown",
   "id": "b9ccc2cf-971a-437d-94be-b0eba687ed98",
   "metadata": {},
   "source": [
    "Bài 8:"
   ]
  },
  {
   "cell_type": "code",
   "execution_count": 113,
   "id": "d7d491ab-3a3e-4dcf-a8aa-14f7f4655383",
   "metadata": {},
   "outputs": [
    {
     "name": "stdin",
     "output_type": "stream",
     "text": [
      "Nhập vào số thứ nhất 5\n",
      "Nhập vào số thứ hai 4\n",
      "Nhập vào số thứ ba 9\n"
     ]
    },
    {
     "name": "stdout",
     "output_type": "stream",
     "text": [
      "Trung vị là: 5.0\n",
      "Trung bình 3 số: 6.0\n"
     ]
    }
   ],
   "source": [
    "from math import *\n",
    "def trungVi(a1,a2,a3):\n",
    "    print(f\"Trung vị là: {a1+a2+a3-min(a1,a2,a3)-max(a1,a2,a3)}\")\n",
    "def average(a1,a2,a3):\n",
    "    print(f\"Trung bình 3 số: {(min(a1,a2,a3)+((a1+a2+a3)-min(a1,a2,a3)-max(a1,a2,a3))+max(a1,a2,a3))/3}\")\n",
    "def main():\n",
    "    a1=float(input(\"Nhập vào số thứ nhất\"))\n",
    "    a2=float(input(\"Nhập vào số thứ hai\"))\n",
    "    a3=float(input(\"Nhập vào số thứ ba\"))\n",
    "    trungVi(a1,a2,a3)\n",
    "    average(a1,a2,a3)\n",
    "main()"
   ]
  },
  {
   "cell_type": "markdown",
   "id": "122508c8-e317-4c61-be4b-2900e7da7b6b",
   "metadata": {},
   "source": [
    "Bài 9:"
   ]
  },
  {
   "cell_type": "code",
   "execution_count": 9,
   "id": "3862d170-3734-44ac-b10b-122d161ddc1e",
   "metadata": {},
   "outputs": [
    {
     "name": "stdin",
     "output_type": "stream",
     "text": [
      "Nhập vào 1 số:  4\n"
     ]
    },
    {
     "name": "stdout",
     "output_type": "stream",
     "text": [
      "Số 4 không phải số nguyên tố\n"
     ]
    }
   ],
   "source": [
    "def check(number):\n",
    "    if number>=0:\n",
    "        checkSNT(number)\n",
    "    else:\n",
    "        print(\"Lỗi nhập liệu\")\n",
    "def checkSNT(number):\n",
    "    for i in range(2, number):\n",
    "        if number % i == 0:\n",
    "            print(f\"Số {number} không phải số nguyên tố\")\n",
    "            break\n",
    "    else:\n",
    "        print(f\"Số {number} là số nguyên tố\")\n",
    "number=int(input(\"Nhập vào 1 số: \"))\n",
    "check(number)"
   ]
  },
  {
   "cell_type": "markdown",
   "id": "97f77bc4-32af-49ed-8a75-507cb31ddad5",
   "metadata": {},
   "source": [
    "Bài 10:"
   ]
  },
  {
   "cell_type": "code",
   "execution_count": 31,
   "id": "1f8992ba-fe64-4f49-8cdc-2a509a9b6816",
   "metadata": {},
   "outputs": [
    {
     "name": "stdout",
     "output_type": "stream",
     "text": [
      "RCOk!P*CzZ"
     ]
    }
   ],
   "source": [
    "import random\n",
    "mk_list=[]\n",
    "def passwork():\n",
    "    for i in range(0,10) or range(0,2):\n",
    "        mk=random.randint(33,127)\n",
    "        mk=chr(mk)\n",
    "        mk_list.append(mk)\n",
    "    return mk_list\n",
    "def display():\n",
    "    for i1 in range(0,10) or range(0,2):\n",
    "        print(mk_list[i1],end=\"\")\n",
    "passwork()\n",
    "display()"
   ]
  },
  {
   "cell_type": "markdown",
   "id": "d9471a2c-675c-4895-8994-240d23979b44",
   "metadata": {},
   "source": [
    "Bài 11:"
   ]
  },
  {
   "cell_type": "code",
   "execution_count": null,
   "id": "740984f1-f313-494d-a226-e1a6cb9c2ab0",
   "metadata": {},
   "outputs": [],
   "source": [
    "def doDaiPass(passwork):\n",
    "    if len(passwork)>=8:\n",
    "        checkPass(passwork)\n",
    "    else:\n",
    "        print(\"Lỗi! Xin vui lòng kiểm tra lại\")\n",
    "def checkPass(passwork):\n",
    "    for i1 in passwork:\n",
    "        if i1.isupper() == True:\n",
    "            for i2 in passwork:\n",
    "                if i2.islower() == True:\n",
    "                    for i3 in passwork:\n",
    "                        if i3.isalnum()==True:\n",
    "                            kq=True\n",
    "    if kq==True:\n",
    "        print(\"Mật khẩu đúng\")\n",
    "    else:\n",
    "        print(\"Mật khẩu sai\")\n",
    "passwork=input(\"Mật khẩu: \")\n",
    "doDaiPass(passwork)"
   ]
  },
  {
   "cell_type": "markdown",
   "id": "7fabb4b0-62ae-4e15-8955-f97dc23011b0",
   "metadata": {},
   "source": [
    "Bài 12:"
   ]
  },
  {
   "cell_type": "code",
   "execution_count": 15,
   "id": "9f485e87-3896-4a4c-a45a-114f4f126905",
   "metadata": {},
   "outputs": [
    {
     "name": "stdin",
     "output_type": "stream",
     "text": [
      "Nhập vào 1 số trong khoảng 1-10000:  28\n"
     ]
    },
    {
     "name": "stdout",
     "output_type": "stream",
     "text": [
      "28 là số hoàn hảo\n"
     ]
    }
   ],
   "source": [
    "def checkSoHoanHao(num):\n",
    "    sum=0\n",
    "    for i in range(1,num):\n",
    "        if num%i==0:\n",
    "            sum+=i\n",
    "    return sum==num\n",
    "\n",
    "num=int(input(\"Nhập vào 1 số trong khoảng 1-10000: \"))\n",
    "if checkSoHoanHao(num):\n",
    "    print(f\"{num} là số hoàn hảo\")\n",
    "else:\n",
    "    print(f\"{num} ko phải là số hoàn hảo\")\n",
    "\n"
   ]
  },
  {
   "cell_type": "code",
   "execution_count": 34,
   "id": "12c9cfa3-eba1-402b-bd59-eb4f69688801",
   "metadata": {},
   "outputs": [
    {
     "name": "stdout",
     "output_type": "stream",
     "text": [
      "6 là số hoàn hảo\n",
      "28 là số hoàn hảo\n",
      "496 là số hoàn hảo\n"
     ]
    },
    {
     "ename": "RecursionError",
     "evalue": "maximum recursion depth exceeded",
     "output_type": "error",
     "traceback": [
      "\u001b[31m---------------------------------------------------------------------------\u001b[39m",
      "\u001b[31mRecursionError\u001b[39m                            Traceback (most recent call last)",
      "\u001b[36mCell\u001b[39m\u001b[36m \u001b[39m\u001b[32mIn[34]\u001b[39m\u001b[32m, line 17\u001b[39m\n\u001b[32m     14\u001b[39m         \u001b[38;5;28;01mif\u001b[39;00m kiemtraSHH(num):\n\u001b[32m     15\u001b[39m             \u001b[38;5;28mprint\u001b[39m(\u001b[33mf\u001b[39m\u001b[33m\"\u001b[39m\u001b[38;5;132;01m{\u001b[39;00mnum\u001b[38;5;132;01m}\u001b[39;00m\u001b[33m là số hoàn hảo\u001b[39m\u001b[33m\"\u001b[39m)\n\u001b[32m---> \u001b[39m\u001b[32m17\u001b[39m \u001b[43mtimSHH\u001b[49m\u001b[43m(\u001b[49m\u001b[32;43m10000\u001b[39;49m\u001b[43m)\u001b[49m\n",
      "\u001b[36mCell\u001b[39m\u001b[36m \u001b[39m\u001b[32mIn[34]\u001b[39m\u001b[32m, line 14\u001b[39m, in \u001b[36mtimSHH\u001b[39m\u001b[34m(limit)\u001b[39m\n\u001b[32m     12\u001b[39m \u001b[38;5;28;01mdef\u001b[39;00m\u001b[38;5;250m \u001b[39m\u001b[34mtimSHH\u001b[39m(limit):\n\u001b[32m     13\u001b[39m     \u001b[38;5;28;01mfor\u001b[39;00m num \u001b[38;5;129;01min\u001b[39;00m \u001b[38;5;28mrange\u001b[39m(\u001b[32m1\u001b[39m, limit + \u001b[32m1\u001b[39m):\n\u001b[32m---> \u001b[39m\u001b[32m14\u001b[39m         \u001b[38;5;28;01mif\u001b[39;00m \u001b[43mkiemtraSHH\u001b[49m\u001b[43m(\u001b[49m\u001b[43mnum\u001b[49m\u001b[43m)\u001b[49m:\n\u001b[32m     15\u001b[39m             \u001b[38;5;28mprint\u001b[39m(\u001b[33mf\u001b[39m\u001b[33m\"\u001b[39m\u001b[38;5;132;01m{\u001b[39;00mnum\u001b[38;5;132;01m}\u001b[39;00m\u001b[33m là số hoàn hảo\u001b[39m\u001b[33m\"\u001b[39m)\n",
      "\u001b[36mCell\u001b[39m\u001b[36m \u001b[39m\u001b[32mIn[34]\u001b[39m\u001b[32m, line 10\u001b[39m, in \u001b[36mkiemtraSHH\u001b[39m\u001b[34m(n)\u001b[39m\n\u001b[32m      9\u001b[39m \u001b[38;5;28;01mdef\u001b[39;00m\u001b[38;5;250m \u001b[39m\u001b[34mkiemtraSHH\u001b[39m(n):\n\u001b[32m---> \u001b[39m\u001b[32m10\u001b[39m     \u001b[38;5;28;01mreturn\u001b[39;00m \u001b[38;5;28;43msum\u001b[39;49m\u001b[43m(\u001b[49m\u001b[43mn\u001b[49m\u001b[43m)\u001b[49m == n\n",
      "\u001b[36mCell\u001b[39m\u001b[36m \u001b[39m\u001b[32mIn[34]\u001b[39m\u001b[32m, line 6\u001b[39m, in \u001b[36msum\u001b[39m\u001b[34m(n, i)\u001b[39m\n\u001b[32m      4\u001b[39m     \u001b[38;5;28;01mreturn\u001b[39;00m \u001b[32m0\u001b[39m\n\u001b[32m      5\u001b[39m \u001b[38;5;28;01mif\u001b[39;00m n % i == \u001b[32m0\u001b[39m:\n\u001b[32m----> \u001b[39m\u001b[32m6\u001b[39m     \u001b[38;5;28;01mreturn\u001b[39;00m i + \u001b[38;5;28;43msum\u001b[39;49m\u001b[43m(\u001b[49m\u001b[43mn\u001b[49m\u001b[43m,\u001b[49m\u001b[43m \u001b[49m\u001b[43mi\u001b[49m\u001b[43m \u001b[49m\u001b[43m+\u001b[49m\u001b[43m \u001b[49m\u001b[32;43m1\u001b[39;49m\u001b[43m)\u001b[49m\n\u001b[32m      7\u001b[39m \u001b[38;5;28;01mreturn\u001b[39;00m \u001b[38;5;28msum\u001b[39m(n, i + \u001b[32m1\u001b[39m)\n",
      "\u001b[36mCell\u001b[39m\u001b[36m \u001b[39m\u001b[32mIn[34]\u001b[39m\u001b[32m, line 6\u001b[39m, in \u001b[36msum\u001b[39m\u001b[34m(n, i)\u001b[39m\n\u001b[32m      4\u001b[39m     \u001b[38;5;28;01mreturn\u001b[39;00m \u001b[32m0\u001b[39m\n\u001b[32m      5\u001b[39m \u001b[38;5;28;01mif\u001b[39;00m n % i == \u001b[32m0\u001b[39m:\n\u001b[32m----> \u001b[39m\u001b[32m6\u001b[39m     \u001b[38;5;28;01mreturn\u001b[39;00m i + \u001b[38;5;28;43msum\u001b[39;49m\u001b[43m(\u001b[49m\u001b[43mn\u001b[49m\u001b[43m,\u001b[49m\u001b[43m \u001b[49m\u001b[43mi\u001b[49m\u001b[43m \u001b[49m\u001b[43m+\u001b[49m\u001b[43m \u001b[49m\u001b[32;43m1\u001b[39;49m\u001b[43m)\u001b[49m\n\u001b[32m      7\u001b[39m \u001b[38;5;28;01mreturn\u001b[39;00m \u001b[38;5;28msum\u001b[39m(n, i + \u001b[32m1\u001b[39m)\n",
      "    \u001b[31m[... skipping similar frames: sum at line 6 (2 times)]\u001b[39m\n",
      "\u001b[36mCell\u001b[39m\u001b[36m \u001b[39m\u001b[32mIn[34]\u001b[39m\u001b[32m, line 7\u001b[39m, in \u001b[36msum\u001b[39m\u001b[34m(n, i)\u001b[39m\n\u001b[32m      5\u001b[39m \u001b[38;5;28;01mif\u001b[39;00m n % i == \u001b[32m0\u001b[39m:\n\u001b[32m      6\u001b[39m     \u001b[38;5;28;01mreturn\u001b[39;00m i + \u001b[38;5;28msum\u001b[39m(n, i + \u001b[32m1\u001b[39m)\n\u001b[32m----> \u001b[39m\u001b[32m7\u001b[39m \u001b[38;5;28;01mreturn\u001b[39;00m \u001b[38;5;28;43msum\u001b[39;49m\u001b[43m(\u001b[49m\u001b[43mn\u001b[49m\u001b[43m,\u001b[49m\u001b[43m \u001b[49m\u001b[43mi\u001b[49m\u001b[43m \u001b[49m\u001b[43m+\u001b[49m\u001b[43m \u001b[49m\u001b[32;43m1\u001b[39;49m\u001b[43m)\u001b[49m\n",
      "    \u001b[31m[... skipping similar frames: sum at line 6 (1 times)]\u001b[39m\n",
      "\u001b[36mCell\u001b[39m\u001b[36m \u001b[39m\u001b[32mIn[34]\u001b[39m\u001b[32m, line 7\u001b[39m, in \u001b[36msum\u001b[39m\u001b[34m(n, i)\u001b[39m\n\u001b[32m      5\u001b[39m \u001b[38;5;28;01mif\u001b[39;00m n % i == \u001b[32m0\u001b[39m:\n\u001b[32m      6\u001b[39m     \u001b[38;5;28;01mreturn\u001b[39;00m i + \u001b[38;5;28msum\u001b[39m(n, i + \u001b[32m1\u001b[39m)\n\u001b[32m----> \u001b[39m\u001b[32m7\u001b[39m \u001b[38;5;28;01mreturn\u001b[39;00m \u001b[38;5;28;43msum\u001b[39;49m\u001b[43m(\u001b[49m\u001b[43mn\u001b[49m\u001b[43m,\u001b[49m\u001b[43m \u001b[49m\u001b[43mi\u001b[49m\u001b[43m \u001b[49m\u001b[43m+\u001b[49m\u001b[43m \u001b[49m\u001b[32;43m1\u001b[39;49m\u001b[43m)\u001b[49m\n",
      "    \u001b[31m[... skipping similar frames: sum at line 7 (1463 times), sum at line 6 (17 times)]\u001b[39m\n",
      "\u001b[36mCell\u001b[39m\u001b[36m \u001b[39m\u001b[32mIn[34]\u001b[39m\u001b[32m, line 6\u001b[39m, in \u001b[36msum\u001b[39m\u001b[34m(n, i)\u001b[39m\n\u001b[32m      4\u001b[39m     \u001b[38;5;28;01mreturn\u001b[39;00m \u001b[32m0\u001b[39m\n\u001b[32m      5\u001b[39m \u001b[38;5;28;01mif\u001b[39;00m n % i == \u001b[32m0\u001b[39m:\n\u001b[32m----> \u001b[39m\u001b[32m6\u001b[39m     \u001b[38;5;28;01mreturn\u001b[39;00m i + \u001b[38;5;28;43msum\u001b[39;49m\u001b[43m(\u001b[49m\u001b[43mn\u001b[49m\u001b[43m,\u001b[49m\u001b[43m \u001b[49m\u001b[43mi\u001b[49m\u001b[43m \u001b[49m\u001b[43m+\u001b[49m\u001b[43m \u001b[49m\u001b[32;43m1\u001b[39;49m\u001b[43m)\u001b[49m\n\u001b[32m      7\u001b[39m \u001b[38;5;28;01mreturn\u001b[39;00m \u001b[38;5;28msum\u001b[39m(n, i + \u001b[32m1\u001b[39m)\n",
      "    \u001b[31m[... skipping similar frames: sum at line 7 (1486 times)]\u001b[39m\n",
      "\u001b[36mCell\u001b[39m\u001b[36m \u001b[39m\u001b[32mIn[34]\u001b[39m\u001b[32m, line 7\u001b[39m, in \u001b[36msum\u001b[39m\u001b[34m(n, i)\u001b[39m\n\u001b[32m      5\u001b[39m \u001b[38;5;28;01mif\u001b[39;00m n % i == \u001b[32m0\u001b[39m:\n\u001b[32m      6\u001b[39m     \u001b[38;5;28;01mreturn\u001b[39;00m i + \u001b[38;5;28msum\u001b[39m(n, i + \u001b[32m1\u001b[39m)\n\u001b[32m----> \u001b[39m\u001b[32m7\u001b[39m \u001b[38;5;28;01mreturn\u001b[39;00m \u001b[38;5;28;43msum\u001b[39;49m\u001b[43m(\u001b[49m\u001b[43mn\u001b[49m\u001b[43m,\u001b[49m\u001b[43m \u001b[49m\u001b[43mi\u001b[49m\u001b[43m \u001b[49m\u001b[43m+\u001b[49m\u001b[43m \u001b[49m\u001b[32;43m1\u001b[39;49m\u001b[43m)\u001b[49m\n",
      "\u001b[31mRecursionError\u001b[39m: maximum recursion depth exceeded"
     ]
    }
   ],
   "source": [
    "#In ra số hoàn hảo từ 1-10000\n",
    "def sum(n,i=1):\n",
    "    if i == n:\n",
    "        return 0\n",
    "    if n % i == 0:\n",
    "        return i + sum(n, i + 1)\n",
    "    return sum(n, i + 1)\n",
    "    \n",
    "def kiemtraSHH(n):\n",
    "    return sum(n) == n\n",
    "\n",
    "def timSHH(limit):\n",
    "    for num in range(1, limit + 1):\n",
    "        if kiemtraSHH(num):\n",
    "            print(f\"{num} là số hoàn hảo\")\n",
    "\n",
    "timSHH(10000)"
   ]
  },
  {
   "cell_type": "markdown",
   "id": "36c8fa24-784f-47b6-a235-9ff7dbf05868",
   "metadata": {},
   "source": [
    "Bài 13:"
   ]
  },
  {
   "cell_type": "code",
   "execution_count": 37,
   "id": "acb05e17-137d-497e-85d6-f80f9da38130",
   "metadata": {},
   "outputs": [
    {
     "name": "stdout",
     "output_type": "stream",
     "text": [
      "Nhập vào các mục trong danh sách (nhập 'done' khi bạn hoàn thành):\n"
     ]
    },
    {
     "name": "stdin",
     "output_type": "stream",
     "text": [
      "Nhập vào 1 mục:  english\n",
      "Nhập vào 1 mục:  japanese\n",
      "Nhập vào 1 mục:  martin\n",
      "Nhập vào 1 mục:  done\n"
     ]
    },
    {
     "name": "stdout",
     "output_type": "stream",
     "text": [
      "Danh sách của bạn là:  english, japanese, and martin\n"
     ]
    }
   ],
   "source": [
    "def format_list(items):\n",
    "    if not items:\n",
    "        return \"\"\n",
    "    elif len(items) == 1:\n",
    "        return items[0]\n",
    "    elif len(items) == 2:\n",
    "        return f\"{items[0]} and {items[1]}\"\n",
    "    else:\n",
    "        return f\"{', '.join(items[:-1])}, and {items[-1]}\"\n",
    "\n",
    "def main():\n",
    "    print(\"Nhập vào các mục trong danh sách (nhập 'done' khi bạn hoàn thành):\")\n",
    "    items = []\n",
    "    while True:\n",
    "        item = input(\"Nhập vào 1 mục: \")\n",
    "        if item.lower() == \"done\":\n",
    "            break\n",
    "        items.append(item)\n",
    "    \n",
    "    formatted_list = format_list(items)\n",
    "    print(\"Danh sách của bạn là: \", formatted_list)\n",
    "\n",
    "if __name__ == \"__main__\":\n",
    "    main()"
   ]
  },
  {
   "cell_type": "markdown",
   "id": "8caf5d17-d0bf-4509-a17d-3460ee77f1f6",
   "metadata": {},
   "source": [
    "Bài 14:"
   ]
  },
  {
   "cell_type": "code",
   "execution_count": null,
   "id": "26a1d0f8-f350-4af9-a27c-47d73ea52b38",
   "metadata": {},
   "outputs": [],
   "source": []
  },
  {
   "cell_type": "markdown",
   "id": "f1417901-43fd-4317-8ffc-ba6026374f28",
   "metadata": {},
   "source": [
    "Bài 15"
   ]
  },
  {
   "cell_type": "code",
   "execution_count": null,
   "id": "b1d74644-f589-4059-beee-28b82123a2f2",
   "metadata": {},
   "outputs": [],
   "source": []
  },
  {
   "cell_type": "markdown",
   "id": "995f3c31-57b9-40f4-b91e-190873cfafe7",
   "metadata": {},
   "source": [
    "Bài 16:"
   ]
  },
  {
   "cell_type": "code",
   "execution_count": null,
   "id": "7b22c2fb-c8c7-45d7-8ca9-d131ab113043",
   "metadata": {},
   "outputs": [],
   "source": []
  },
  {
   "cell_type": "markdown",
   "id": "331482ea-22cf-45fb-ae3b-9b3e478c3642",
   "metadata": {},
   "source": [
    "Bài 17:"
   ]
  },
  {
   "cell_type": "markdown",
   "id": "15bf85ea-8297-4f9d-9d4b-7f1ab8cab1d1",
   "metadata": {},
   "source": [
    "Bài 18: Kiểm tra số nguyên tố từ 1 đến 100"
   ]
  },
  {
   "cell_type": "code",
   "execution_count": 24,
   "id": "06106630-fb4e-4ff6-b5b7-8155fe0e2fe4",
   "metadata": {},
   "outputs": [
    {
     "name": "stdout",
     "output_type": "stream",
     "text": [
      "Các số nguyên tố từ 1 đến 100 là:\n",
      "2 3 5 7 11 13 17 19 23 29 31 37 41 43 47 53 59 61 67 71 73 79 83 89 97 "
     ]
    }
   ],
   "source": [
    "def is_prime(number):\n",
    "    if number < 2:\n",
    "        return False\n",
    "    for i in range(2, int(number ** 0.5) + 1):\n",
    "        if number % i == 0:\n",
    "            return False\n",
    "    return True\n",
    "\n",
    "print(\"Các số nguyên tố từ 1 đến 100 là:\")\n",
    "for num in range(1, 101):\n",
    "    if is_prime(num):\n",
    "        print(num, end=\" \")"
   ]
  },
  {
   "cell_type": "code",
   "execution_count": 25,
   "id": "0ba83dda-4611-4242-8c91-c1237c5d532a",
   "metadata": {},
   "outputs": [
    {
     "name": "stdout",
     "output_type": "stream",
     "text": [
      "Các số nguyên tố từ 1 đến 100 là:\n",
      "2 3 5 7 11 13 17 19 23 29 31 37 41 43 47 53 59 61 67 71 73 79 83 89 97 "
     ]
    }
   ],
   "source": [
    "#Sử dụng đệ quy\n",
    "def print_primes(start, end):\n",
    "    if start > end:\n",
    "        return False\n",
    "    if is_prime(start):\n",
    "        print(start, end=\" \")\n",
    "    print_primes(start + 1, end)\n",
    "def is_prime(number, divisor=2):\n",
    "    if number < 2:\n",
    "        return False\n",
    "    if divisor > int(number ** 0.5):\n",
    "        return True\n",
    "    if number % divisor == 0:\n",
    "        return False\n",
    "    return is_prime(number, divisor + 1)\n",
    "\n",
    "print(\"Các số nguyên tố từ 1 đến 100 là:\")\n",
    "print_primes(1, 100)"
   ]
  },
  {
   "cell_type": "code",
   "execution_count": 2,
   "id": "a261ca1f-09dc-4def-aa5c-79478ab0de63",
   "metadata": {},
   "outputs": [
    {
     "name": "stdout",
     "output_type": "stream",
     "text": [
      "120\n"
     ]
    }
   ],
   "source": [
    "print(ascii(120))"
   ]
  },
  {
   "cell_type": "code",
   "execution_count": null,
   "id": "43f77816-5953-45f4-af69-0982a18a0b6d",
   "metadata": {},
   "outputs": [],
   "source": []
  }
 ],
 "metadata": {
  "kernelspec": {
   "display_name": "Python 3 (ipykernel)",
   "language": "python",
   "name": "python3"
  },
  "language_info": {
   "codemirror_mode": {
    "name": "ipython",
    "version": 3
   },
   "file_extension": ".py",
   "mimetype": "text/x-python",
   "name": "python",
   "nbconvert_exporter": "python",
   "pygments_lexer": "ipython3",
   "version": "3.13.2"
  }
 },
 "nbformat": 4,
 "nbformat_minor": 5
}
